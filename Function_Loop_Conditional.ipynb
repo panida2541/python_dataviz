{
 "cells": [
  {
   "cell_type": "markdown",
   "metadata": {},
   "source": [
    "# Function\n",
    "### print ชื่อ xxx นามสกุล xxx รหัส\n",
    "### print เกรด วิชา stat >>AAA"
   ]
  },
  {
   "cell_type": "code",
   "execution_count": 6,
   "metadata": {},
   "outputs": [
    {
     "name": "stdout",
     "output_type": "stream",
     "text": [
      "ชื่อ ปนิดา  นามสกุล  ท่าประโคน   รหัส  603020475-7\n"
     ]
    }
   ],
   "source": [
    "a = 'ชื่อ ปนิดา  นามสกุล  ท่าประโคน   รหัส  603020475-7'\n",
    "print(a)"
   ]
  },
  {
   "cell_type": "code",
   "execution_count": 9,
   "metadata": {},
   "outputs": [
    {
     "name": "stdout",
     "output_type": "stream",
     "text": [
      "ชื่อ ปนิดา  นามสกุล  ท่าประโคน รหัส 603020475-7\n"
     ]
    }
   ],
   "source": [
    "name = 'ปนิดา'\n",
    "surname = 'ท่าประโคน'\n",
    "ID ='603020475-7'\n",
    "\n",
    "b=f'ชื่อ {name}  นามสกุล  {surname} รหัส {ID}'\n",
    "print(b)"
   ]
  },
  {
   "cell_type": "markdown",
   "metadata": {},
   "source": [
    "## function template\n",
    "~~~python\n",
    "def  function_name(x):\n",
    "    do_something\n",
    "    return output\n",
    "~~~"
   ]
  },
  {
   "cell_type": "markdown",
   "metadata": {},
   "source": [
    "## nomal function"
   ]
  },
  {
   "cell_type": "code",
   "execution_count": 29,
   "metadata": {},
   "outputs": [],
   "source": [
    "def  print_line1(name1,surname1,ID1):\n",
    "    st =f'ชื่อ {name1}  นามสกุล {surname1}  รหัส {ID1}'\n",
    "    return st"
   ]
  },
  {
   "cell_type": "code",
   "execution_count": 30,
   "metadata": {},
   "outputs": [
    {
     "name": "stdout",
     "output_type": "stream",
     "text": [
      "ชื่อ กาญจนา  นามสกุล ประสาคุณ  รหัส 603021855-2\n"
     ]
    }
   ],
   "source": [
    "print(print_line1('กาญจนา','ประสาคุณ','603021855-2'))"
   ]
  },
  {
   "cell_type": "code",
   "execution_count": 38,
   "metadata": {},
   "outputs": [],
   "source": [
    "def  print_2lines(name1,surname1,ID1,grade):\n",
    "    st =f'ชื่อ {name1}  นามสกุล {surname1}  รหัส {ID1}'\n",
    "    print(st)\n",
    "    st2 = f'เกรดวิชา stat1 >>> {grade}'\n",
    "    print(st2)"
   ]
  },
  {
   "cell_type": "code",
   "execution_count": 39,
   "metadata": {},
   "outputs": [
    {
     "name": "stdout",
     "output_type": "stream",
     "text": [
      "ชื่อ กาญจนา  นามสกุล ประสาคุณ  รหัส 603021855-2\n",
      "เกรดวิชา stat1 >>> A\n"
     ]
    }
   ],
   "source": [
    "print_2lines('กาญจนา','ประสาคุณ','603021855-2','A')"
   ]
  },
  {
   "cell_type": "code",
   "execution_count": 42,
   "metadata": {},
   "outputs": [
    {
     "name": "stdout",
     "output_type": "stream",
     "text": [
      "ชื่อ ปนิดา  นามสกุล ท่าประโคน  รหัส 603020475-7\n",
      "เกรดวิชา stat1 >>> A\n",
      "ชื่อ นวลผกา  นามสกุล พิมพ์พัฒน์  รหัส 603021109-7\n",
      "เกรดวิชา stat1 >>> A\n",
      "ชื่อ รสสุคณธ์  นามสกุล เอกไชย  รหัส 603021315-4\n",
      "เกรดวิชา stat1 >>> A\n",
      "ชื่อ สุชาวดี  นามสกุล อัจฉริยวงศ์เมธี  รหัส 603021888-7\n",
      "เกรดวิชา stat1 >>> A\n"
     ]
    }
   ],
   "source": [
    "print_2lines('ปนิดา','ท่าประโคน','603020475-7','A')\n",
    "print_2lines('นวลผกา','พิมพ์พัฒน์','603021109-7','A')\n",
    "print_2lines('รสสุคณธ์','เอกไชย','603021315-4','A')\n",
    "print_2lines('สุชาวดี','อัจฉริยวงศ์เมธี','603021888-7','A')"
   ]
  },
  {
   "cell_type": "markdown",
   "metadata": {},
   "source": [
    "### function whitout input"
   ]
  },
  {
   "cell_type": "code",
   "execution_count": 45,
   "metadata": {},
   "outputs": [],
   "source": [
    "def  two_x_three():\n",
    "   x= 2*3\n",
    "   return x"
   ]
  },
  {
   "cell_type": "code",
   "execution_count": 46,
   "metadata": {},
   "outputs": [
    {
     "data": {
      "text/plain": [
       "6"
      ]
     },
     "execution_count": 46,
     "metadata": {},
     "output_type": "execute_result"
    }
   ],
   "source": [
    " two_x_three()"
   ]
  },
  {
   "cell_type": "markdown",
   "metadata": {},
   "source": [
    "## function with default agument (ฟังก์ชั่นที่มีค่าเริ่มต้นของ agument)"
   ]
  },
  {
   "cell_type": "code",
   "execution_count": 9,
   "metadata": {},
   "outputs": [],
   "source": [
    "def  print_2lines_default(name1,surname1,ID1,grade='F'):\n",
    "    st =f'ชื่อ {name1}  นามสกุล {surname1}  รหัส {ID1}'\n",
    "    print(st)\n",
    "    st2 = f'เกรดวิชา stat1 >>> {grade}'\n",
    "    print(st2)"
   ]
  },
  {
   "cell_type": "code",
   "execution_count": 11,
   "metadata": {},
   "outputs": [
    {
     "name": "stdout",
     "output_type": "stream",
     "text": [
      "ชื่อ ปนิดา  นามสกุล ท่าประโคน  รหัส 603020475-7\n",
      "เกรดวิชา stat1 >>> F\n"
     ]
    }
   ],
   "source": [
    "print_2lines_default('ปนิดา','ท่าประโคน','603020475-7')"
   ]
  },
  {
   "cell_type": "code",
   "execution_count": 12,
   "metadata": {},
   "outputs": [
    {
     "name": "stdout",
     "output_type": "stream",
     "text": [
      "ชื่อ ปนิดา  นามสกุล ท่าประโคน  รหัส 603020475-7\n",
      "เกรดวิชา stat1 >>> A+\n"
     ]
    }
   ],
   "source": [
    "print_2lines_default('ปนิดา','ท่าประโคน','603020475-7','A+')"
   ]
  },
  {
   "cell_type": "code",
   "execution_count": 13,
   "metadata": {},
   "outputs": [
    {
     "name": "stdout",
     "output_type": "stream",
     "text": [
      "ชื่อ ท่าประโคน  นามสกุล ปนิดา  รหัส 603020475-7\n",
      "เกรดวิชา stat1 >>> F\n"
     ]
    }
   ],
   "source": [
    "print_2lines_default(surname1='ปนิดา',name1='ท่าประโคน',ID1='603020475-7')"
   ]
  },
  {
   "cell_type": "markdown",
   "metadata": {},
   "source": [
    "# Loop(วนซ้ำ)"
   ]
  },
  {
   "cell_type": "markdown",
   "metadata": {},
   "source": [
    "```Python\n",
    "for each_member in listA:\n",
    "    do something\n",
    " ```"
   ]
  },
  {
   "cell_type": "code",
   "execution_count": 66,
   "metadata": {},
   "outputs": [
    {
     "name": "stdout",
     "output_type": "stream",
     "text": [
      "1\n",
      "2\n",
      "3\n"
     ]
    }
   ],
   "source": [
    "for i in [1,2,3]:\n",
    "    print(i)"
   ]
  },
  {
   "cell_type": "code",
   "execution_count": 64,
   "metadata": {},
   "outputs": [
    {
     "name": "stdout",
     "output_type": "stream",
     "text": [
      "P -> /\n",
      "  \n",
      "a -> /\n",
      "  \n",
      "n -> /\n",
      "  \n",
      "i -> /\n",
      "  \n",
      "d -> /\n",
      "  \n",
      "a -> /\n",
      "  \n"
     ]
    }
   ],
   "source": [
    "for i in 'Panida' :\n",
    "    print(f'{i} -> /' )\n",
    "    print('  ')      "
   ]
  },
  {
   "cell_type": "markdown",
   "metadata": {},
   "source": [
    "## 1 สร้าง list = ชื่อเพื่อนที่อยู่ในแถวยาวเดียวกัน \n",
    "## 2 วนลูป print ประโยคว่า xxxเรา  yyyความรู้สึก  zzzเพื่อน  ทุกคน"
   ]
  },
  {
   "cell_type": "code",
   "execution_count": 134,
   "metadata": {},
   "outputs": [],
   "source": [
    "friend_list =['เล็ก','ฟาง','ปิง']"
   ]
  },
  {
   "cell_type": "code",
   "execution_count": 135,
   "metadata": {},
   "outputs": [],
   "source": [
    "def  print_feeling(I,Feeling,Friend):\n",
    "    print (f'{I} {Feeling} {Friend}')"
   ]
  },
  {
   "cell_type": "code",
   "execution_count": 136,
   "metadata": {},
   "outputs": [
    {
     "name": "stdout",
     "output_type": "stream",
     "text": [
      "ป๊อป งามแฮง pop\n"
     ]
    }
   ],
   "source": [
    "print_feeling('ป๊อป','งามแฮง','pop')"
   ]
  },
  {
   "cell_type": "code",
   "execution_count": 137,
   "metadata": {},
   "outputs": [
    {
     "name": "stdout",
     "output_type": "stream",
     "text": [
      "ป๊อป งามแฮง เล็ก\n",
      "ป๊อป งามแฮง ฟาง\n",
      "ป๊อป งามแฮง ปิง\n"
     ]
    }
   ],
   "source": [
    "for i in frined_list:\n",
    "    print_feeling('ป๊อป','งามแฮง',i)"
   ]
  },
  {
   "cell_type": "markdown",
   "metadata": {},
   "source": [
    "### Loop in function"
   ]
  },
  {
   "cell_type": "code",
   "execution_count": 138,
   "metadata": {},
   "outputs": [],
   "source": [
    "def  print_feelings(I,Feeling,Friends):\n",
    "    for friend in Friends:\n",
    "        print (f'{I} {Feeling} {Friend}')"
   ]
  },
  {
   "cell_type": "code",
   "execution_count": 139,
   "metadata": {},
   "outputs": [
    {
     "name": "stdout",
     "output_type": "stream",
     "text": [
      "ป๊อป งามแฮง ['เล็ก', 'ฟาง', 'ปิง']\n"
     ]
    }
   ],
   "source": [
    "print_feeling('ป๊อป','งามแฮง',frined_list)"
   ]
  },
  {
   "cell_type": "markdown",
   "metadata": {},
   "source": [
    "### Loop in dict"
   ]
  },
  {
   "cell_type": "code",
   "execution_count": 140,
   "metadata": {},
   "outputs": [
    {
     "data": {
      "text/plain": [
       "{'พันทิพา': 'B', 'ศุภนิตา': 'c', 'ปนัดดา': 'A', 'ทรงกลด': 'F'}"
      ]
     },
     "execution_count": 140,
     "metadata": {},
     "output_type": "execute_result"
    }
   ],
   "source": [
    "name_grade={'พันทิพา':'B','ศุภนิตา':'c','ปนัดดา':'A','ทรงกลด':'F'}\n",
    "name_grade"
   ]
  },
  {
   "cell_type": "code",
   "execution_count": 141,
   "metadata": {},
   "outputs": [
    {
     "data": {
      "text/plain": [
       "'A'"
      ]
     },
     "execution_count": 141,
     "metadata": {},
     "output_type": "execute_result"
    }
   ],
   "source": [
    "name_grade['ปนัดดา']"
   ]
  },
  {
   "cell_type": "code",
   "execution_count": 142,
   "metadata": {},
   "outputs": [
    {
     "data": {
      "text/plain": [
       "dict_keys(['พันทิพา', 'ศุภนิตา', 'ปนัดดา', 'ทรงกลด'])"
      ]
     },
     "execution_count": 142,
     "metadata": {},
     "output_type": "execute_result"
    }
   ],
   "source": [
    "name_grade.keys()"
   ]
  },
  {
   "cell_type": "code",
   "execution_count": 143,
   "metadata": {},
   "outputs": [
    {
     "name": "stdout",
     "output_type": "stream",
     "text": [
      "พันทิพาได้เกรดB\n",
      "ศุภนิตาได้เกรดc\n",
      "ปนัดดาได้เกรดA\n",
      "ทรงกลดได้เกรดF\n"
     ]
    }
   ],
   "source": [
    "for i in name_grade.keys():\n",
    "    print(f'{i}ได้เกรด{ name_grade[i]}')\n"
   ]
  },
  {
   "cell_type": "markdown",
   "metadata": {},
   "source": [
    "## Loop in Loop"
   ]
  },
  {
   "cell_type": "code",
   "execution_count": 144,
   "metadata": {},
   "outputs": [
    {
     "name": "stdout",
     "output_type": "stream",
     "text": [
      "เล็ก รัก เล็ก\n",
      "เล็ก รัก ฟาง\n",
      "เล็ก รัก ปิง\n",
      "ฟาง รัก เล็ก\n",
      "ฟาง รัก ฟาง\n",
      "ฟาง รัก ปิง\n",
      "ปิง รัก เล็ก\n",
      "ปิง รัก ฟาง\n",
      "ปิง รัก ปิง\n"
     ]
    }
   ],
   "source": [
    "for name1 in friend_list :\n",
    "     for name2 in friend_list :\n",
    "            print_feeling(name1,'รัก',name2)"
   ]
  },
  {
   "cell_type": "markdown",
   "metadata": {},
   "source": [
    "## conditional เงื่อนไข"
   ]
  },
  {
   "cell_type": "markdown",
   "metadata": {},
   "source": [
    "```Python\n",
    "if conditional1:\n",
    "    do something\n",
    "elif conditional2:\n",
    "    do another thing\n",
    "else:\n",
    "    do ...\n",
    " ```"
   ]
  },
  {
   "cell_type": "code",
   "execution_count": 146,
   "metadata": {},
   "outputs": [
    {
     "name": "stdout",
     "output_type": "stream",
     "text": [
      "เล็ก รัก ฟาง\n",
      "เล็ก รัก ปิง\n",
      "ฟาง รัก เล็ก\n",
      "ฟาง รัก ปิง\n",
      "ปิง รัก เล็ก\n",
      "ปิง รัก ฟาง\n"
     ]
    }
   ],
   "source": [
    "for name1 in friend_list:\n",
    "    for name2 in  friend_list:\n",
    "        if name1 != name2:\n",
    "            print_feeling(name1,'รัก',name2)"
   ]
  },
  {
   "cell_type": "code",
   "execution_count": 151,
   "metadata": {},
   "outputs": [
    {
     "name": "stdout",
     "output_type": "stream",
     "text": [
      "Yes\n"
     ]
    }
   ],
   "source": [
    "if True:\n",
    "    print('Yes')"
   ]
  },
  {
   "cell_type": "code",
   "execution_count": 150,
   "metadata": {},
   "outputs": [],
   "source": [
    "if False:\n",
    "    print('No')"
   ]
  },
  {
   "cell_type": "code",
   "execution_count": 152,
   "metadata": {},
   "outputs": [
    {
     "name": "stdout",
     "output_type": "stream",
     "text": [
      " No\n"
     ]
    }
   ],
   "source": [
    "if False:\n",
    "    print('Yes')\n",
    "else:\n",
    "    print(' No')"
   ]
  },
  {
   "cell_type": "code",
   "execution_count": 153,
   "metadata": {},
   "outputs": [
    {
     "data": {
      "text/plain": [
       "True"
      ]
     },
     "execution_count": 153,
     "metadata": {},
     "output_type": "execute_result"
    }
   ],
   "source": [
    "1==1"
   ]
  },
  {
   "cell_type": "code",
   "execution_count": 154,
   "metadata": {},
   "outputs": [
    {
     "name": "stdout",
     "output_type": "stream",
     "text": [
      "1=1\n"
     ]
    }
   ],
   "source": [
    "if 1==1:\n",
    "    print('1=1')"
   ]
  },
  {
   "cell_type": "markdown",
   "metadata": {},
   "source": [
    "# conditional\n",
    "# == เครื่องหมายเท่ากับ\n",
    "## != เครื่องหมายไม่เท่ากับ\n",
    "## >= เครื่องหมายมากกว่าเท่ากับ\n",
    "## <= เครื่องหมายน้อยกว่าเท่ากับ\n",
    "## <   เครื่องหมายมากกว่า\n",
    "## >   เครื่องหมายน้อยกว่า"
   ]
  },
  {
   "cell_type": "markdown",
   "metadata": {},
   "source": [
    "# Hw\n",
    "## เขียน function   ตัดเกรด  โดยที่ input เป็น คะแนน(0-100) output เป็นเกรด(A-F)\n",
    "## input=[1,50,65,90,101,-5,49]"
   ]
  },
  {
   "cell_type": "code",
   "execution_count": 1,
   "metadata": {},
   "outputs": [],
   "source": [
    "def  Grade (g):\n",
    "    if 79< g < 100:\n",
    "        print(f'{g} ได้เกรด A')\n",
    "    elif 75<=g<80:\n",
    "        print(f'{g}  ได้เกรด B+')  \n",
    "    elif 65<=g<70:\n",
    "        print(f'{g} ได้เกรด B')\n",
    "    elif 60<=g<65:\n",
    "        print(f'{g} ได้เกรด C+')\n",
    "    elif 55<=g<60:\n",
    "        print(f'{g} ได้เกรด C')\n",
    "    elif 50<=g<55:\n",
    "        print(f'{g} ได้เกรด D+')\n",
    "    elif 50<=g<55:\n",
    "        print(f'{g} ได้เกรด D')\n",
    "    elif g >100:\n",
    "        print(f'{g} ได้เกรด ผิดพลาด')  \n",
    "    elif g <0:\n",
    "        print(f'{g} ได้เกรด ผิดพลาด')  \n",
    "    else:\n",
    "        print(f'{g} ได้เกรด F')"
   ]
  },
  {
   "cell_type": "code",
   "execution_count": 2,
   "metadata": {},
   "outputs": [
    {
     "name": "stdout",
     "output_type": "stream",
     "text": [
      "1 ได้เกรด F\n"
     ]
    }
   ],
   "source": [
    "Grade(1)"
   ]
  },
  {
   "cell_type": "code",
   "execution_count": 3,
   "metadata": {},
   "outputs": [
    {
     "name": "stdout",
     "output_type": "stream",
     "text": [
      "50 ได้เกรด D+\n"
     ]
    }
   ],
   "source": [
    "Grade(50)"
   ]
  },
  {
   "cell_type": "code",
   "execution_count": 4,
   "metadata": {},
   "outputs": [
    {
     "name": "stdout",
     "output_type": "stream",
     "text": [
      "65 ได้เกรด B\n"
     ]
    }
   ],
   "source": [
    "Grade(65)"
   ]
  },
  {
   "cell_type": "code",
   "execution_count": 5,
   "metadata": {},
   "outputs": [
    {
     "name": "stdout",
     "output_type": "stream",
     "text": [
      "90 ได้เกรด A\n"
     ]
    }
   ],
   "source": [
    "Grade(90)"
   ]
  },
  {
   "cell_type": "code",
   "execution_count": 6,
   "metadata": {},
   "outputs": [
    {
     "name": "stdout",
     "output_type": "stream",
     "text": [
      "101 ได้เกรด ผิดพลาด\n"
     ]
    }
   ],
   "source": [
    "Grade(101)"
   ]
  },
  {
   "cell_type": "code",
   "execution_count": 7,
   "metadata": {},
   "outputs": [
    {
     "name": "stdout",
     "output_type": "stream",
     "text": [
      "-5 ได้เกรด ผิดพลาด\n"
     ]
    }
   ],
   "source": [
    "Grade(-5)"
   ]
  },
  {
   "cell_type": "code",
   "execution_count": 8,
   "metadata": {},
   "outputs": [
    {
     "name": "stdout",
     "output_type": "stream",
     "text": [
      "49 ได้เกรด F\n"
     ]
    }
   ],
   "source": [
    "Grade(49)"
   ]
  },
  {
   "cell_type": "code",
   "execution_count": null,
   "metadata": {},
   "outputs": [],
   "source": []
  }
 ],
 "metadata": {
  "kernelspec": {
   "display_name": "Python 3",
   "language": "python",
   "name": "python3"
  },
  "language_info": {
   "codemirror_mode": {
    "name": "ipython",
    "version": 3
   },
   "file_extension": ".py",
   "mimetype": "text/x-python",
   "name": "python",
   "nbconvert_exporter": "python",
   "pygments_lexer": "ipython3",
   "version": "3.7.3"
  }
 },
 "nbformat": 4,
 "nbformat_minor": 2
}
